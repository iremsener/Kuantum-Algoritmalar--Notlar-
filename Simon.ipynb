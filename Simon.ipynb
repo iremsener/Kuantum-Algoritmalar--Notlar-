{
 "cells": [
  {
   "cell_type": "markdown",
   "metadata": {},
   "source": [
    "<font size=\"30px\" style=\"font-size:30px;\" align=\"left\"><b> Simon Algoritması </b></font>\n",
    "<br>\n",
    "<br><br>"
   ]
  },
  {
   "cell_type": "markdown",
   "metadata": {},
   "source": [
    "##### Burada Simon problemini ve onu bilinen en iyi klasik çözümden daha az adımda çözen kuantum çözümünü inceleyeceğiz. Bu kuantum çözüm Simon algoritması olarak bilinir. İlk bakışta problem basit bir oyuncak problem gibi görünebilir ancak bazı kriptosistemlerin analizinde önemli uygulamalara sahiptir ve aynı zamanda ünlü Shor'un kuantum çarpanlara ayırma algoritması gibi başka bir tanınmış kuantum algoritmasına da ilham kaynağıdır."
   ]
  },
  {
   "cell_type": "markdown",
   "metadata": {},
   "source": [
    "## Simon Problemi Karşımıza çıkan problemi inceleyelim:\n",
    "\n",
    "Bir fonksiyon (bir oracle tarafından gerçekleştirilmiş) $f$, $n$-bitlik dizileri $n$-bitlik dizilere haritalayan ve şu şekilde tanımlanan $f: {0,1}^{n} \\rightarrow {0,1}^{n}$ fonksiyonu verilmiştir: $f(x) = f(x \\oplus s)$, burada $s$ ∈ ${0,1}^{n}$. Amacımız, mümkün olan en az sorgu ile $s$ değerini belirlemektir.\n",
    "\n",
    "Burada $s$, çözümlenmesi gereken gizli (veya saklı) diziyi ifade etmektedir.\n",
    "\n",
    "Şimdi, bu problemi daha küçük parçalara ayıralım:"
   ]
  },
  {
   "cell_type": "markdown",
   "metadata": {},
   "source": [
    "### İkili XOR"
   ]
  },
  {
   "cell_type": "markdown",
   "metadata": {},
   "source": [
    "Bitsel $XOR$ operatörü, $\\oplus$ (aynı zamanda bitsel toplama modulo 2 olarak da bilinir), iki bit dizisini giriş olarak alır ve her bir bit çifti üzerinde özel bir VEYA işlemi yapar. Bu operatör, iki bit çifti farklıysa 1, aynıysa 0 döndürür.\n",
    "\n",
    "Operatörün, giriş bitlerinden herhangi biri yalnızca doğru olduğunda, 2 modülünde bitsel toplama işlemiyle (veya taşıma biti içermeyen bitsel toplama) benzer şekilde doğru bir sonuç verdiği söylenebilir.\n",
    "\n",
    "Bitsel $XOR$ operatörü, rastgele bir bit dizisi $r$ : ($r$ ∈ {0,1}$^{n}$) ve sıfır bit dizisi $z$ ($z = {0}^{n}$) üzerinde uygulandığında, çıktı olarak $r$ değerini döndürür."
   ]
  },
  {
   "cell_type": "markdown",
   "metadata": {},
   "source": [
    "$\\begin{array}{cc|c}\n",
    "A& B&A \\oplus B \\\\\n",
    "\\hline\n",
    "0& 0 & 0 \\\\\n",
    "0& 1 & 1 \\\\\n",
    "1& 0 & 1 \\\\\n",
    "1& 1 & 0 \\\\\n",
    " \\end{array}\n",
    "$"
   ]
  },
  {
   "cell_type": "markdown",
   "metadata": {},
   "source": [
    "Aşağıdaki örneği ele alalım; adımları daha açık hale getirmek için bit dizeleri vektör olarak gösterilmiştir.\n",
    "\n",
    "\n",
    "\n",
    "Let $a_{1}=101, a_{2}=011, a_{3}=100,  a_{4}=000$.\n",
    "\n",
    "$a_1 \\oplus a_2 = (1,0,1) \\oplus (0,1,1) = (1\\oplus 0, 0 \\oplus 1, 1 \\oplus 1) = 110$\n",
    "\n",
    "$a_1 \\oplus a_3 = (1,0,1) \\oplus (1,0,0) = (1\\oplus 1, 0 \\oplus 0, 1 \\oplus 0) = 001$\n",
    "\n",
    "$a_2 \\oplus a_3 = (0,1,1) \\oplus (1,0,0) = (0\\oplus 1, 1 \\oplus 0, 1 \\oplus 0) = 111$  \n",
    "\n",
    "$a_1 \\oplus a_4 = (1,0,1) \\oplus (0,0,0) = (1\\oplus 0, 0 \\oplus 0, 1 \\oplus 0) = 101$"
   ]
  },
  {
   "cell_type": "markdown",
   "metadata": {},
   "source": [
    "\n",
    "\n",
    "1. Algoritmanın Adımları\n",
    "Adım 1: Başlangıç Durumu\n",
    "İlk olarak, iki kuantum bit dizisini başlatıyoruz:\n",
    "\n",
    "$n$ bitlik bir register, fonksiyonu uygulayacağımız giriş $x$'i tutar.\n",
    "$n$ bitlik bir register, fonksiyonun sonucunu tutacak ve sıfırdan başlayacaktır.\n",
    "Bu iki register'ı $|0\\rangle$ durumunda başlatıyoruz.\n",
    "\n",
    "Adım 2: Süperpozisyon Oluşturma\n",
    "Bir Hadamard dönüşümü uygulayarak, giriş register'ındaki her $x$'i eşit olasılıklarla süperpozisyona sokarız.\n",
    "\n",
    "Adım 3: Fonksiyonu Uygulama\n",
    "Fonksiyon $f(x)$'i uyguluyoruz. Bu fonksiyon, her **$x$ için $f(x)$'in değerini hesaplar ve ikinci register'ı bu değere göre günceller.\n",
    "\n",
    "Adım 4: İkinci Register'ı \"Ölçme\" İşlemi\n",
    "İkinci register'daki tüm değerlerin sıfır olması gerektiğinden, ikinci register'ı ölçeriz. Bu işlem, süperpozisyonu \"çökerterek\" belirli bir $s$ değeriyle ilişkilendirilen $x$'leri elde etmemize yol açar. Ölçüm sonrasında, $x$ ve $x \\oplus s$ arasındaki ilişkiler hakkında bilgi edinmiş oluruz.\n",
    "\n",
    "Adım 5: Simon Denklemini Kullanma\n",
    "Fonksiyon uygulandıktan ve ölçüm yapıldıktan sonra, bu ölçümleri kullanarak Simon denklemini çözmeye başlarız. Bu denklem, belirli $x$'ler ve $x \\oplus s$'ler arasındaki doğrusal bağıntıyı ortaya koyar.\n",
    "\n",
    "2. Simulasyon ve Uygulama\n",
    "Simon algoritması, bir dizi ölçüm ve doğrusal denkleme dayalı iterasyonlarla $s$'yi çıkarır. Bu genellikle birkaç ölçüm ve örneklem alma adımını içerir.\n",
    "\n",
    "3. Kuantum Devresi\n",
    "Kuantum devresi, yukarıdaki adımları kuantum kapıları ile aşağıdaki şekilde temsil edebiliriz:\n",
    "\n",
    "Hadamard kapısı her bit için.\n",
    "Oracle (gizli fonksiyon) kuantum fonksiyonunu temsil eden bir kapıdır.\n",
    "Ölçüm işlemi.\n",
    "Kuantum Devresi Adımları:\n",
    "Başlangıç durumu:\n",
    "\n",
    "$n$ qubit başlangıçta sıfırdır: $|0\\rangle$.\n",
    "Hadamard kapısı: İlk register'a Hadamard kapıları uygulayarak, süperpozisyon oluşturulur:\n",
    "\n",
    "$H|0\\rangle = \\frac{1}{\\sqrt{2}}(|0\\rangle + |1\\rangle)$.\n",
    "Oracle (fonksiyon uygulama): Oracle, $f(x)$ fonksiyonunu uygular:\n",
    "\n",
    "$|x\\rangle |0\\rangle \\to |x\\rangle |f(x)\\rangle$.\n",
    "Tekrar Hadamard Kapısı: İlk register'a tekrar Hadamard kapıları uygularız. Bu, $s$'yi bulmamıza yardımcı olacak bilgi içerir.\n",
    "\n",
    "Ölçüm: Son olarak, ölçüm yaparak $s$'yi buluruz."
   ]
  }
 ],
 "metadata": {
  "kernelspec": {
   "display_name": "Python 3",
   "language": "python",
   "name": "python3"
  },
  "language_info": {
   "codemirror_mode": {
    "name": "ipython",
    "version": 3
   },
   "file_extension": ".py",
   "mimetype": "text/x-python",
   "name": "python",
   "nbconvert_exporter": "python",
   "pygments_lexer": "ipython3",
   "version": "3.11.4"
  }
 },
 "nbformat": 4,
 "nbformat_minor": 2
}
