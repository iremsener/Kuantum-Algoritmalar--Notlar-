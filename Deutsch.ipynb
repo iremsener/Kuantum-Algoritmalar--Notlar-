{
 "cells": [
  {
   "cell_type": "markdown",
   "metadata": {},
   "source": [
    "<font size=\"30px\" style=\"font-size:30px;\" align=\"left\"><b> Deutsch Algoritması </b></font>\n",
    "<br><br><br>"
   ]
  },
  {
   "cell_type": "markdown",
   "metadata": {},
   "source": [
    "##### Kuantum Deutsch algoritması, kuantum hesaplama alanında önemli bir algoritmadır ve klasik hesaplamanın ötesine geçebilen potansiyeli ile dikkat çeker. Bu algoritma, Deutsch problemini çözmek için geliştirilmiştir ve klasik algoritmalarla kıyaslandığında daha hızlı çözüm sağlar. Algoritma, kuantum bilgisayarlarının avantajlarından yararlanarak belirli türdeki fonksiyonları daha hızlı bir şekilde doğrular."
   ]
  },
  {
   "cell_type": "markdown",
   "metadata": {},
   "source": [
    "<h2>Deutsch Algoritması</h2>\n",
    "\n",
    "Verilen bir boolean fonksiyonu $f:\\{0,1\\} \\rightarrow \\{0, 1\\}$ için, $f$'nin dengeli olduğunu söyleriz eğer $f(0) \\neq f(1)$ ise ve sabit olduğunu söyleriz eğer $f(0) = f(1)$ ise.\n",
    "\n",
    "Verilen $f:\\{0,1\\} \\rightarrow \\{0, 1\\}$ bir oracle olarak, yani bir giriş için sorgular yaparak değerlendirebildiğimiz ancak iç yapısına bakamadığımız bir fonksiyon olduğunda, amaç $f$'nin sabit mi yoksa dengeli mi olduğunu belirlemektir"
   ]
  },
  {
   "cell_type": "markdown",
   "metadata": {},
   "source": [
    "<h3>Oracle Hesaplama Modeli</h3>\n",
    "\n",
    "Farz edelim ki arkadaşınız böyle bir fonksiyon $f$ seçiyor ve siz de bunun sabit mi yoksa dengeli mi olduğunu tahmin etmeye çalışıyorsunuz. Sadece \"f(0) nedir?\" gibi sorular sormaya izniniz var. Sorduğunuz her soru, $f$ fonksiyonuna yapılan bir sorgudur. Kuantum bilgisayarlarında birçok algoritma, bu oracle hesaplama modeline dayanır ve amaç, mümkün olan en az sayıda sorgu yaparak bir problemi çözmektir.\n",
    "\n",
    "Klasik Çözüm\n",
    "Böyle bir fonksiyon verildiğinde, bir klasik bilgisayar kullanarak cevabı almak için fonksiyonu iki kez değerlendirmemiz gerekir.\n",
    "\n",
    "Kuantum Çözümü\n",
    "Önceden her 'klasik' mantıksal fonksiyon $f$'nin, karşılık gelen bir ünite operatorü $U_f$'ye dönüştürülebileceğini (mantıksal bir kuantum devresi inşa ederek) belirlemiştik. Şimdi, $U_f$'yi yalnızca bir kez değerlendiren bir kuantum algoritması önereceğiz."
   ]
  },
  {
   "cell_type": "markdown",
   "metadata": {},
   "source": [
    "### Algoritma"
   ]
  },
  {
   "cell_type": "markdown",
   "metadata": {},
   "source": [
    "2 Qubit Devresi İnşa Ediyoruz\n",
    "\n",
    "İkinci qubiti $\\ket{-}$ durumuna getirmek için $X$ ve $H$ kapılarını uygulayın.\n",
    "\n",
    "İlk qubit üzerine $H$ kapısını uygulayın.\n",
    "\n",
    "$U_f$'yi uygulayın.\n",
    "\n",
    "İlk qubit üzerine tekrar $H$ kapısını uygulayın.\n",
    "\n",
    "İlk qubitin ölçümünü yapın. Eğer 0 ise, $f$ sabittir. Eğer 1 ise, $f$ dengelidir."
   ]
  },
  {
   "cell_type": "markdown",
   "metadata": {},
   "source": [
    "Başlangıç Durumu\n",
    "\n",
    "Başlangıçta, başlangıç durumu $\\ket{\\psi_0} = \\ket{0}\\ket{0}$ olarak alınır. Ardından, ikinci qubit üzerine bir $X$ kapısı uygulanarak $\\ket{\\psi_1} = \\ket{0}\\ket{1}$ durumu elde edilir.\n",
    "\n",
    "Her iki qubit üzerine $H$ kapısı uygulandıktan sonra, ilk qubit eşit süperpozisyon durumuna gelir ve ikinci qubit artık $\\ket{-}$ durumundadır."
   ]
  },
  {
   "cell_type": "markdown",
   "metadata": {},
   "source": [
    "\\begin{align*}\n",
    "\\ket{\\psi_2} &= \\left(\\frac{1}{\\sqrt{2}}\\ket{0} +\\frac{1}{\\sqrt{2}}\\ket{1} \\right) \\ket{-} \\\\\n",
    "&= \\frac{1}{\\sqrt{2}}\\ket{0}\\ket{-}  +\\frac{1}{\\sqrt{2}}\\ket{1}\\ket{-} \\\\\n",
    "\\hspace{-2in}\\\\\n",
    "\\end{align*}\n",
    "\n",
    " $U_f$ to $\\ket{\\psi_2}$ ve $\\ket{\\psi_3}$\n",
    "\n",
    "\\begin{align*}\n",
    "\\ket{\\psi_3} &= U_f\\left(\\frac{1}{\\sqrt{2}}\\ket{0}\\ket{-} + \\frac{1}{\\sqrt{2}}\\ket{1}\\ket{-}\\right) \\\\\n",
    "&= \\frac{1}{\\sqrt{2}} U_f\\ket{0}\\ket{-} + \\frac{1}{\\sqrt{2}} U_f\\ket{1}\\ket{-} & \\text{Linearity of the operator} \\\\\n",
    "&= \\frac{1}{\\sqrt{2}} (-1)^{f(0)} \\ket{0} \\ket{-} + \\frac{1}{\\sqrt{2}} (-1)^{f(1)} \\ket{1} \\ket{-} & \\text{By phase kickback} \\\\\n",
    "&= \\left( \\frac{1}{\\sqrt{2}} (-1)^{f(0)} \\ket{0} + \\frac{1}{\\sqrt{2}} (-1)^{f(1)} \\ket{1} \\right) \\ket{-}\n",
    "\\end{align*}\n"
   ]
  },
  {
   "cell_type": "markdown",
   "metadata": {},
   "source": [
    "- $f$ sabittir:\n",
    "\n",
    "Bu durumda $ f(0) = f(1) $ olup, $\\ket{\\psi_{4,0}} = (-1)^{f(0)} \\ket{0}$ ve karşılık gelen kuantum durumu $\\ket{\\psi_{4,0}} = (-1)^{f(0)} \\ket{0}$'dır. Bu nedenle, 0'ı olasılık 1 ile gözlemleriz. (Çünkü $f(0) = f(1)$ olduğundan, bunu eşdeğer olarak değiştirebilirsiniz.)\n"
   ]
  },
  {
   "cell_type": "markdown",
   "metadata": {},
   "source": [
    "- $f$ dengelidir:\n",
    "\n",
    "Bu durumda, $ f(0) \\neq f(1) $ olup, $\\ket{\\psi_{4,0}} = { \\ket{0} \\ (-1)^{f(0)} }$ ve karşılık gelen kuantum durumu $\\ket{\\psi_{4,0}} = (-1)^{f(0)} \\ket{1}$'dir. Bu nedenle, 1'i olasılık 1 ile gözlemleriz."
   ]
  },
  {
   "cell_type": "markdown",
   "metadata": {},
   "source": [
    "- $f$ dengelidir:\n",
    "\n",
    "Bu durumda, $ f(0) \\neq f(1) $ olup, $\\ket{\\psi_{4,0}} = { 0 \\ (-1)^{f(0)} }$ ve karşılık gelen kuantum durumu $\\ket{\\psi_{4,0}} = (-1)^{f(0)} \\ket{1}$'dir. Bu nedenle, 1'i olasılık 1 ile gözlemleriz"
   ]
  },
  {
   "cell_type": "markdown",
   "metadata": {},
   "source": [
    "Yani, yalnızca bir sorgu yaparak $f$'nin sabit mi yoksa dengeli mi olduğunu %100 kesinlikle belirleyebiliriz."
   ]
  },
  {
   "cell_type": "markdown",
   "metadata": {},
   "source": [
    "Alternatif olarak, her bir olası $f$ için $\\left(\\frac{1}{\\sqrt{2}}(-1)^{f(0)}\\ket{0} + \\frac{1}{\\sqrt{2}}(-1)^{f(1)}\\ket{1}\\right)\\ket{-}$ durumunu analiz edebiliriz ve sonra etkisini görmek için $H$ kapısını uygulayabiliriz. Örneğin, eğer $f(0)=f(1)$ ise, o zaman $\\ket{\\psi_3}$ durumu $\\ket{+}\\ket{-}$'ye indirgenir, böylece $H$ uygulandıktan sonra $\\ket{0}$ elde edilir."
   ]
  },
  {
   "cell_type": "code",
   "execution_count": 4,
   "metadata": {},
   "outputs": [
    {
     "data": {
      "image/png": "[encoded data removed]",
      "text/plain": [
       "<Figure size 640x480 with 1 Axes>"
      ]
     },
     "execution_count": 4,
     "metadata": {},
     "output_type": "execute_result"
    }
   ],
   "source": [
    "from qiskit import QuantumCircuit, transpile\n",
    "from qiskit.visualization import plot_histogram\n",
    "from qiskit import *\n",
    "from qiskit_aer import Aer\n",
    "# 1. Kuantum devresi oluşturuluyor (1 qubit giriş ve 1 qubit kontrol)\n",
    "qc = QuantumCircuit(2, 1)\n",
    "\n",
    "# 2. Hadamard kapısını ilk qubit'e uyguluyoruz. İlk qubit'e Hadamard kapısı uygulanır. \n",
    "# Hadamard kapısı, qubit'in süperpozisyon durumuna geçmesini sağlar, yani |0⟩ ve |1⟩ durumlarının eşit olasılıkla bir süperpozisyonu.\n",
    "qc.h(0)\n",
    "\n",
    "# 3. Oracle (Kara Kutu) fonksiyonu\n",
    "# Bu örnekte, f(x) = x (balanced bir fonksiyon) kullanıyoruz\n",
    "# CNOT kapısı kullanarak oracle işlevini gerçekleştiriyoruz\n",
    "qc.cx(0, 1)\n",
    "\n",
    "# 4. .Bir kez daha Hadamard kapısı, ilk qubit'e uygulanır. \n",
    "# Bu, kuantum algoritmasının sonraki adımında qubit'in süperpozisyon durumunun nasıl değişeceğini belirler.\n",
    "qc.h(0)\n",
    "\n",
    "# 5. İlk qubit ölçülür ve ölçüm sonucu klasik bitine (0 numaralı klasik bit) kaydedilir.\n",
    "#  Bu, kuantum devresinin çıktısını elde etmek içindir.\n",
    "qc.measure(0, 0)\n",
    "\n",
    "# 6. Devreyi çizdiriyoruz\n",
    "qc.draw()\n",
    "\n",
    "# 7. Devreyi transpile ediyoruz (optimize edilmiş devre için)\n",
    "transpiled_qc = transpile(qc, optimization_level=3)\n",
    "\n",
    "# 8. Simülatör arka planı kullanarak çalıştırıyoruz\n",
    "backend = Aer.get_backend('qasm_simulator')\n",
    "\n",
    "# 9. Transpile edilmiş devreyi çalıştırıyoruz (execute kullanılmaz)\n",
    "job = backend.run(transpiled_qc, shots=1024)\n",
    "\n",
    "# 10. Sonuçları alıyoruz\n",
    "result = job.result()\n",
    "counts = result.get_counts()\n",
    "\n",
    "# 11. Sonuçları histogramda gösteriyoruz\n",
    "plot_histogram([counts])\n"
   ]
  }
 ],
 "metadata": {
  "kernelspec": {
   "display_name": "Python 3",
   "language": "python",
   "name": "python3"
  },
  "language_info": {
   "codemirror_mode": {
    "name": "ipython",
    "version": 3
   },
   "file_extension": ".py",
   "mimetype": "text/x-python",
   "name": "python",
   "nbconvert_exporter": "python",
   "pygments_lexer": "ipython3",
   "version": "3.11.4"
  }
 },
 "nbformat": 4,
 "nbformat_minor": 2
}
